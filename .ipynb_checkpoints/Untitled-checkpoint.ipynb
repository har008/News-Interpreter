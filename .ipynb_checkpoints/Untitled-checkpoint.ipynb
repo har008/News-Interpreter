{
 "cells": [
  {
   "cell_type": "code",
   "execution_count": 1,
   "metadata": {},
   "outputs": [
    {
     "name": "stdout",
     "output_type": "stream",
     "text": [
      "External affairs minister S Jaishankar (File photo)\n",
      "\n",
      "DUSHANBE, TAJIKISTAN: During his three-day visit to Tajikistan, external affairs minister S Jaishankar will attend the ninth ministerial conference of Heart of Asia - Istanbul Process (HoA-IP) on Afghanistan in Dushanbe on Tuesday.\n",
      "Jaishankar will attend the conference at the joint invitation of his counterparts from Afghanistan and Tajikistan.\n",
      "The conference, being hosted in Tajikistan, is focused on strengthening a regional and international consensus for Afghan peace.\n"
     ]
    }
   ],
   "source": [
    "from summarizer import summarize\n",
    "import argparse\n",
    "from newspaper import *\n",
    "\n",
    "url = \"https://timesofindia.indiatimes.com/india/s-jaishankar-to-attend-heart-of-asia-conference-in-tajikistan/articleshow/81753120.cms\"\n",
    "article = Article(str(url))\n",
    "article.download()\n",
    "article.parse()\n",
    "article.nlp()\n",
    "\n",
    "body=summarize(article.title,article.text,3)\n",
    "for i in body:\n",
    "\tprint(i)"
   ]
  },
  {
   "cell_type": "code",
   "execution_count": null,
   "metadata": {},
   "outputs": [],
   "source": []
  }
 ],
 "metadata": {
  "kernelspec": {
   "display_name": "Python 3",
   "language": "python",
   "name": "python3"
  },
  "language_info": {
   "codemirror_mode": {
    "name": "ipython",
    "version": 3
   },
   "file_extension": ".py",
   "mimetype": "text/x-python",
   "name": "python",
   "nbconvert_exporter": "python",
   "pygments_lexer": "ipython3",
   "version": "3.8.3"
  }
 },
 "nbformat": 4,
 "nbformat_minor": 4
}
