{
 "cells": [
  {
   "cell_type": "code",
   "execution_count": null,
   "metadata": {},
   "outputs": [],
   "source": [
    "from summarizer import summarize\n",
    "import argparse\n",
    "from newspaper import *\n",
    "import urllib\n",
    "\n",
    "def GetText(url, n):\n",
    "\tarticle = Article(str(url))\n",
    "\tarticle.download()\n",
    "\tarticle.parse()\n",
    "\tarticle.nlp()\n",
    "\tbody=summarize(article.title,article.text,n)\n",
    "\ts=\"\"\n",
    "\tfor i in body:\n",
    "\t\ts+=i\n",
    "\treturn s"
   ]
  }
 ],
 "metadata": {
  "kernelspec": {
   "display_name": "Python 3",
   "language": "python",
   "name": "python3"
  },
  "language_info": {
   "codemirror_mode": {
    "name": "ipython",
    "version": 3
   },
   "file_extension": ".py",
   "mimetype": "text/x-python",
   "name": "python",
   "nbconvert_exporter": "python",
   "pygments_lexer": "ipython3",
   "version": "3.8.3"
  }
 },
 "nbformat": 4,
 "nbformat_minor": 4
}
